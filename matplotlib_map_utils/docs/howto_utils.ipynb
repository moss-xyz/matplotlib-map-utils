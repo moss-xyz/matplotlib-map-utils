{
 "cells": [
  {
   "cell_type": "markdown",
   "metadata": {},
   "source": [
    "## **Map Utilities**\n",
    "This notebook will provide a tutorial for using the utility classes and functions in this package to aid with mapping"
   ]
  },
  {
   "cell_type": "markdown",
   "metadata": {},
   "source": [
    "### **Set-Up**"
   ]
  },
  {
   "cell_type": "code",
   "execution_count": 1,
   "metadata": {},
   "outputs": [],
   "source": [
    "# Packages used by this tutorial\n",
    "import geopandas # manipulating geographic data\n",
    "import numpy # creating arrays\n",
    "import pygris # easily acquiring shapefiles from the US Census\n",
    "import matplotlib.pyplot # visualization"
   ]
  },
  {
   "cell_type": "code",
   "execution_count": 2,
   "metadata": {},
   "outputs": [],
   "source": [
    "# Downloading the state-level dataset from pygris\n",
    "states = pygris.states(cb=True, year=2022, cache=False).to_crs(3857)"
   ]
  },
  {
   "cell_type": "markdown",
   "metadata": {},
   "source": [
    "### **USA**\n",
    "\n",
    "The `USA` class within `utils` is intended to help users (a) quickly isolate subsets of states they want to include in their maps, and (b) enrich their data with additional characteristics (such as state abbreviations, regional/divisional groupings, and the like)"
   ]
  },
  {
   "cell_type": "code",
   "execution_count": 3,
   "metadata": {},
   "outputs": [],
   "source": [
    "# Importing the main package\n",
    "from matplotlib_map_utils.utils import USA"
   ]
  },
  {
   "cell_type": "code",
   "execution_count": 4,
   "metadata": {},
   "outputs": [],
   "source": [
    "# Creating a usa object\n",
    "usa = USA() # this will load the data from ./utils/usa.json"
   ]
  },
  {
   "cell_type": "markdown",
   "metadata": {},
   "source": [
    "The `USA` class contains a list of all [states](https://en.wikipedia.org/wiki/List_of_states_and_territories_of_the_United_States#States) and [territories](https://en.wikipedia.org/wiki/List_of_states_and_territories_of_the_United_States#Territories) for the USA in a list of dictionary objects.\n",
    "\n",
    "The included states and territories are based upon [this Wikipedia page](https://en.wikipedia.org/wiki/Federal_Information_Processing_Standard_state_code) listing all the available FIPS codes.\n",
    "\n",
    "Each state and territory has the following attributes available for it:\n",
    "\n",
    "* `fips`: A two-character `string` representing [the FIPS code](https://en.wikipedia.org/wiki/Federal_Information_Processing_Standard_state_code#FIPS_state_codes). *Note that both FIPS 5-1 and FIPS 5-2 codes are included, but 5-1 Territory codes are marked as \"invalid\" (ex. FIPS code 66 is preferred over code 14 for Guam).*\n",
    "\n",
    "* `name`: A `string` representing the name of the state or territory, with proper captialization and punctuation. Generally follows the name provided in the FIPS code table (above), with some minor modifications (`Washington, D.C.` is used instead of `District of Columbia`).\n",
    "\n",
    "* `abbr`: A two-character `string` representing the [proper abbreviation](https://en.wikipedia.org/wiki/List_of_U.S._state_and_territory_abbreviations) (or \"alpha code\") for the state or territory. *Note that all states have abbreviations, but not all territories do*.\n",
    "\n",
    "* `valid`: A `boolean` variable representing if the given entry is *valid* according to **FIPS 5-2**. \"Invalid\" entries (for territories such as Guam, American Samoa, and the like) are retained for backwards compatibility with older datasets, but should be superseded by \"valid\" entires for these territories (usually, with a higher FIPS value).\n",
    "\n",
    "* `state`: A `boolean` variable representing if the given entry is a *state*, per [this list](https://en.wikipedia.org/wiki/List_of_states_and_territories_of_the_United_States#States). Note that `Washington, D.C.` is *not* a state.\n",
    "\n",
    "* `contiguous`: A `boolean` variable representing if the given entry is part of the *contiguous United States*, also referred to as the \"lower 48\" or *CONUS*, per [this list](https://en.wikipedia.org/wiki/Contiguous_United_States). Note that `Washington, D.C.` *is* included in this list.\n",
    "\n",
    "* `territory`: A `boolean` variable representing if the given entry is a *territory*, per [this list](https://en.wikipedia.org/wiki/Territories_of_the_United_States). Note that `Washington, D.C.` is *not* included in this list.\n",
    "\n",
    "* `region`: For states and Washington, D.C., this will be their [Census designated *region*](https://en.wikipedia.org/wiki/List_of_regions_of_the_United_States#Census_Bureau%E2%80%93designated_regions_and_divisions) (`Northeast`, `Midwest`, `South`, or `West`). For territories, this will be either `Inhabited Territory`, `Uninhabited Territory`, or `Sovereign State` (for Palau, Micronesia, and Marshall Islands).\n",
    "\n",
    "* `division`: For states and Washington, D.C., this will be their [Census designated *division*](https://en.wikipedia.org/wiki/List_of_regions_of_the_United_States#Census_Bureau%E2%80%93designated_regions_and_divisions) (such as `New England`, `West North Central`, `Mountain`, or `Pacific`). For territories, this will be either `Commonwealth`, `Compact of Free Association`, `Incorporated and Unorganized`, `Unincorporated and Unorganized`, `Unincorporated and Organized`, per [this list](https://en.wikipedia.org/wiki/Territories_of_the_United_States).\n",
    "\n",
    "* `omb`: For states and Washington, D.C., this will be their [OMB administrative region](https://en.wikipedia.org/wiki/List_of_regions_of_the_United_States#Agency_administrative_regions) (such as `Region I` or `Region IX`). For territories, this will have the same value has `region`.\n",
    "\n",
    "* `bea`: For states and Washington, D.C., this will be their [Bureau of Economic Analysis region](https://en.wikipedia.org/wiki/List_of_regions_of_the_United_States#Bureau_of_Economic_Analysis_regions) (such as `Great Lakes` or `Far West`). For territories, this will have the same value has `region`.\n",
    "\n",
    "* `alias`: This field is only filled in if an entry has a common second name, such as `District of Columbia` instead of `Washington, D.C.`, and `Virgin Islands of the U.S.` instead of `U.S. Virgin Islands`. For most, it is left blank."
   ]
  },
  {
   "cell_type": "code",
   "execution_count": 5,
   "metadata": {},
   "outputs": [
    {
     "data": {
      "text/plain": [
       "{'fips': '01',\n",
       " 'name': 'Alabama',\n",
       " 'abbr': 'AL',\n",
       " 'valid': True,\n",
       " 'state': True,\n",
       " 'contiguous': True,\n",
       " 'territory': False,\n",
       " 'region': 'South',\n",
       " 'division': 'East South Central',\n",
       " 'omb': 'Region IV',\n",
       " 'bea': 'Southeast',\n",
       " 'alias': None}"
      ]
     },
     "execution_count": 5,
     "metadata": {},
     "output_type": "execute_result"
    }
   ],
   "source": [
    "# Looking at a single example\n",
    "usa.jurisdictions[0]"
   ]
  },
  {
   "cell_type": "markdown",
   "metadata": {},
   "source": [
    "#### **Filtering**\n",
    "\n",
    "All entries are available through entry points such as `usa.jurisdictions` (all *valid* entries), `usa.states` (all states), and `usa.territories` (all territories), for users to iterate over the list-of-dicts as desired. However, a convenience `filter()` function is also provided for the `USA` class, which allows users to easily apply layered filters.\n",
    "\n",
    "The arguments for `filter()` mirror the properties available for each state/territory, except for *alias* (see below), and they can accept either single values or lists-of-values.\n",
    "\n",
    "The final argument of `filter()` is `to_return`, which tells the function what value you want to return:\n",
    "\n",
    "* `fips` (default), `name`, or `abbr` will return *just that field* for each returned entry.\n",
    "\n",
    "* `object` or `dict` will return the full list-of-dicts that passes the filter\n",
    "\n",
    "Some notes:\n",
    "\n",
    "* Filters are applied \"top-to-bottom\" in the order they are shown-above, and act as \"and\" filters\n",
    "\n",
    "* If only a single entry is going to be returned, it will be removed from the list and returned as a single value\n",
    "\n",
    "* *Note that the* name *filter compares against both the* name *and* alias *fields*"
   ]
  },
  {
   "cell_type": "code",
   "execution_count": 6,
   "metadata": {},
   "outputs": [
    {
     "data": {
      "text/plain": [
       "['Alabama', 'Alaska', 'Delaware', 'Washington, D.C.']"
      ]
     },
     "execution_count": 6,
     "metadata": {},
     "output_type": "execute_result"
    }
   ],
   "source": [
    "# Filtering based on a list of FIPS codes\n",
    "usa.filter(fips=[\"01\",\"02\",\"10\",\"11\"], to_return=\"name\")"
   ]
  },
  {
   "cell_type": "code",
   "execution_count": 7,
   "metadata": {},
   "outputs": [
    {
     "data": {
      "text/plain": [
       "['CA', 'OR', 'WA']"
      ]
     },
     "execution_count": 7,
     "metadata": {},
     "output_type": "execute_result"
    }
   ],
   "source": [
    "# Filtering for Pacific contiguous states\n",
    "usa.filter(division=\"Pacific\", contiguous=True, to_return=\"abbr\")"
   ]
  },
  {
   "cell_type": "code",
   "execution_count": 8,
   "metadata": {},
   "outputs": [
    {
     "data": {
      "text/plain": [
       "'California'"
      ]
     },
     "execution_count": 8,
     "metadata": {},
     "output_type": "execute_result"
    }
   ],
   "source": [
    "# If only a single value is going to be returned, it will not be returned as a list\n",
    "usa.filter(abbr=\"CA\", to_return=\"name\")"
   ]
  },
  {
   "cell_type": "code",
   "execution_count": 9,
   "metadata": {},
   "outputs": [
    {
     "name": "stderr",
     "output_type": "stream",
     "text": [
      "C:\\Users\\david\\OneDrive\\Programming\\matplotlib-map-utils\\matplotlib_map_utils\\utils\\usa.py:291: UserWarning: No matching entities found. Please refer to the documentation and double-check your filters.\n",
      "  warnings.warn(f\"No matching entities found. Please refer to the documentation and double-check your filters.\")\n"
     ]
    }
   ],
   "source": [
    "# If no entries are returned, a warning will show\n",
    "usa.filter(territory=True, state=True)"
   ]
  },
  {
   "cell_type": "markdown",
   "metadata": {},
   "source": [
    "`filter()` is intended to be easy-to-use whether filtering based on a single dimension, or multiple. However, each property also has its own filter available as a standalone function, following the form `filter_EXAMPLE()`: `filter_valid()`, `filter_fips()`, `filter_region()`, and so on.\n",
    "\n",
    "Each of these standalone functions accepts the same three arguments:\n",
    "\n",
    "* The `value` you want to filter by\n",
    "\n",
    "* (Optional) The list-of-dicts you want to filter (if left blank, will filter all valid states/territories)\n",
    "\n",
    "* `to_return`, which accepts the same arguments that `filter()` does\n",
    "\n",
    "Using this, you can build your own processing pipeline to filter the jurisdictions as you prefer."
   ]
  },
  {
   "cell_type": "code",
   "execution_count": 10,
   "metadata": {},
   "outputs": [
    {
     "data": {
      "text/plain": [
       "['Alabama',\n",
       " 'Arkansas',\n",
       " 'Delaware',\n",
       " 'Washington, D.C.',\n",
       " 'Florida',\n",
       " 'Georgia',\n",
       " 'Kentucky',\n",
       " 'Louisiana',\n",
       " 'Maryland',\n",
       " 'Mississippi',\n",
       " 'North Carolina',\n",
       " 'Oklahoma',\n",
       " 'South Carolina',\n",
       " 'Tennessee',\n",
       " 'Texas',\n",
       " 'Virginia',\n",
       " 'West Virginia']"
      ]
     },
     "execution_count": 10,
     "metadata": {},
     "output_type": "execute_result"
    }
   ],
   "source": [
    "# Getting all valid states\n",
    "valid = usa.filter_valid(True, to_return=\"object\")\n",
    "# Filtering that for all contiguous states\n",
    "contiguous = usa.filter_contiguous(True, valid, \"object\")\n",
    "# Filtering that for all Southern states\n",
    "south = usa.filter_region(\"South\", contiguous, \"name\")\n",
    "south"
   ]
  },
  {
   "cell_type": "markdown",
   "metadata": {},
   "source": [
    "#### **Pandas**\n",
    "\n",
    "The original impetus for this utility class was to help filter/enrich DataFrames and GeoDataFrames with additional data for each state/territory, which can be quite useful for plotting. See below for an example as to how this works."
   ]
  },
  {
   "cell_type": "code",
   "execution_count": 11,
   "metadata": {},
   "outputs": [
    {
     "data": {
      "text/html": [
       "<div>\n",
       "<style scoped>\n",
       "    .dataframe tbody tr th:only-of-type {\n",
       "        vertical-align: middle;\n",
       "    }\n",
       "\n",
       "    .dataframe tbody tr th {\n",
       "        vertical-align: top;\n",
       "    }\n",
       "\n",
       "    .dataframe thead th {\n",
       "        text-align: right;\n",
       "    }\n",
       "</style>\n",
       "<table border=\"1\" class=\"dataframe\">\n",
       "  <thead>\n",
       "    <tr style=\"text-align: right;\">\n",
       "      <th></th>\n",
       "      <th>STATEFP</th>\n",
       "      <th>geometry</th>\n",
       "    </tr>\n",
       "  </thead>\n",
       "  <tbody>\n",
       "    <tr>\n",
       "      <th>0</th>\n",
       "      <td>35</td>\n",
       "      <td>POLYGON ((-12139410.193 3695244.928, -12139373...</td>\n",
       "    </tr>\n",
       "    <tr>\n",
       "      <th>1</th>\n",
       "      <td>46</td>\n",
       "      <td>POLYGON ((-11583670.271 5621144.949, -11582880...</td>\n",
       "    </tr>\n",
       "    <tr>\n",
       "      <th>2</th>\n",
       "      <td>06</td>\n",
       "      <td>MULTIPOLYGON (((-13202983.219 3958997.376, -13...</td>\n",
       "    </tr>\n",
       "    <tr>\n",
       "      <th>3</th>\n",
       "      <td>21</td>\n",
       "      <td>MULTIPOLYGON (((-9952591.879 4373541.504, -995...</td>\n",
       "    </tr>\n",
       "    <tr>\n",
       "      <th>4</th>\n",
       "      <td>01</td>\n",
       "      <td>MULTIPOLYGON (((-9802056.754 3568885.376, -980...</td>\n",
       "    </tr>\n",
       "  </tbody>\n",
       "</table>\n",
       "</div>"
      ],
      "text/plain": [
       "  STATEFP                                           geometry\n",
       "0      35  POLYGON ((-12139410.193 3695244.928, -12139373...\n",
       "1      46  POLYGON ((-11583670.271 5621144.949, -11582880...\n",
       "2      06  MULTIPOLYGON (((-13202983.219 3958997.376, -13...\n",
       "3      21  MULTIPOLYGON (((-9952591.879 4373541.504, -995...\n",
       "4      01  MULTIPOLYGON (((-9802056.754 3568885.376, -980..."
      ]
     },
     "execution_count": 11,
     "metadata": {},
     "output_type": "execute_result"
    }
   ],
   "source": [
    "# Let's say you had an incomplete GeoDataFrame, that just contained the FIPS Code (STATEFP)\n",
    "gdf = states[[\"STATEFP\",\"geometry\"]].copy()\n",
    "gdf.head()"
   ]
  },
  {
   "cell_type": "code",
   "execution_count": 12,
   "metadata": {},
   "outputs": [
    {
     "data": {
      "text/html": [
       "<div>\n",
       "<style scoped>\n",
       "    .dataframe tbody tr th:only-of-type {\n",
       "        vertical-align: middle;\n",
       "    }\n",
       "\n",
       "    .dataframe tbody tr th {\n",
       "        vertical-align: top;\n",
       "    }\n",
       "\n",
       "    .dataframe thead th {\n",
       "        text-align: right;\n",
       "    }\n",
       "</style>\n",
       "<table border=\"1\" class=\"dataframe\">\n",
       "  <thead>\n",
       "    <tr style=\"text-align: right;\">\n",
       "      <th></th>\n",
       "      <th>STATEFP</th>\n",
       "      <th>geometry</th>\n",
       "      <th>NAME</th>\n",
       "    </tr>\n",
       "  </thead>\n",
       "  <tbody>\n",
       "    <tr>\n",
       "      <th>0</th>\n",
       "      <td>35</td>\n",
       "      <td>POLYGON ((-12139410.193 3695244.928, -12139373...</td>\n",
       "      <td>New Mexico</td>\n",
       "    </tr>\n",
       "    <tr>\n",
       "      <th>1</th>\n",
       "      <td>46</td>\n",
       "      <td>POLYGON ((-11583670.271 5621144.949, -11582880...</td>\n",
       "      <td>South Dakota</td>\n",
       "    </tr>\n",
       "    <tr>\n",
       "      <th>2</th>\n",
       "      <td>06</td>\n",
       "      <td>MULTIPOLYGON (((-13202983.219 3958997.376, -13...</td>\n",
       "      <td>California</td>\n",
       "    </tr>\n",
       "    <tr>\n",
       "      <th>3</th>\n",
       "      <td>21</td>\n",
       "      <td>MULTIPOLYGON (((-9952591.879 4373541.504, -995...</td>\n",
       "      <td>Kentucky</td>\n",
       "    </tr>\n",
       "    <tr>\n",
       "      <th>4</th>\n",
       "      <td>01</td>\n",
       "      <td>MULTIPOLYGON (((-9802056.754 3568885.376, -980...</td>\n",
       "      <td>Alabama</td>\n",
       "    </tr>\n",
       "  </tbody>\n",
       "</table>\n",
       "</div>"
      ],
      "text/plain": [
       "  STATEFP                                           geometry          NAME\n",
       "0      35  POLYGON ((-12139410.193 3695244.928, -12139373...    New Mexico\n",
       "1      46  POLYGON ((-11583670.271 5621144.949, -11582880...  South Dakota\n",
       "2      06  MULTIPOLYGON (((-13202983.219 3958997.376, -13...    California\n",
       "3      21  MULTIPOLYGON (((-9952591.879 4373541.504, -995...      Kentucky\n",
       "4      01  MULTIPOLYGON (((-9802056.754 3568885.376, -980...       Alabama"
      ]
     },
     "execution_count": 12,
     "metadata": {},
     "output_type": "execute_result"
    }
   ],
   "source": [
    "# Now we want to add the name of each state\n",
    "# When using .apply() on a single column, it can be quite straightforward\n",
    "gdf[\"NAME\"] = gdf[\"STATEFP\"].apply(lambda x: usa.filter_fips(x, to_return=\"name\"))\n",
    "gdf.head()"
   ]
  },
  {
   "cell_type": "code",
   "execution_count": 13,
   "metadata": {},
   "outputs": [
    {
     "data": {
      "text/html": [
       "<div>\n",
       "<style scoped>\n",
       "    .dataframe tbody tr th:only-of-type {\n",
       "        vertical-align: middle;\n",
       "    }\n",
       "\n",
       "    .dataframe tbody tr th {\n",
       "        vertical-align: top;\n",
       "    }\n",
       "\n",
       "    .dataframe thead th {\n",
       "        text-align: right;\n",
       "    }\n",
       "</style>\n",
       "<table border=\"1\" class=\"dataframe\">\n",
       "  <thead>\n",
       "    <tr style=\"text-align: right;\">\n",
       "      <th></th>\n",
       "      <th>STATEFP</th>\n",
       "      <th>geometry</th>\n",
       "      <th>NAME</th>\n",
       "      <th>BEA_REGION</th>\n",
       "    </tr>\n",
       "  </thead>\n",
       "  <tbody>\n",
       "    <tr>\n",
       "      <th>0</th>\n",
       "      <td>35</td>\n",
       "      <td>POLYGON ((-12139410.193 3695244.928, -12139373...</td>\n",
       "      <td>New Mexico</td>\n",
       "      <td>Southwest</td>\n",
       "    </tr>\n",
       "    <tr>\n",
       "      <th>1</th>\n",
       "      <td>46</td>\n",
       "      <td>POLYGON ((-11583670.271 5621144.949, -11582880...</td>\n",
       "      <td>South Dakota</td>\n",
       "      <td>Plains</td>\n",
       "    </tr>\n",
       "    <tr>\n",
       "      <th>2</th>\n",
       "      <td>06</td>\n",
       "      <td>MULTIPOLYGON (((-13202983.219 3958997.376, -13...</td>\n",
       "      <td>California</td>\n",
       "      <td>Far West</td>\n",
       "    </tr>\n",
       "    <tr>\n",
       "      <th>3</th>\n",
       "      <td>21</td>\n",
       "      <td>MULTIPOLYGON (((-9952591.879 4373541.504, -995...</td>\n",
       "      <td>Kentucky</td>\n",
       "      <td>Southeast</td>\n",
       "    </tr>\n",
       "    <tr>\n",
       "      <th>4</th>\n",
       "      <td>01</td>\n",
       "      <td>MULTIPOLYGON (((-9802056.754 3568885.376, -980...</td>\n",
       "      <td>Alabama</td>\n",
       "      <td>Southeast</td>\n",
       "    </tr>\n",
       "  </tbody>\n",
       "</table>\n",
       "</div>"
      ],
      "text/plain": [
       "  STATEFP                                           geometry          NAME  \\\n",
       "0      35  POLYGON ((-12139410.193 3695244.928, -12139373...    New Mexico   \n",
       "1      46  POLYGON ((-11583670.271 5621144.949, -11582880...  South Dakota   \n",
       "2      06  MULTIPOLYGON (((-13202983.219 3958997.376, -13...    California   \n",
       "3      21  MULTIPOLYGON (((-9952591.879 4373541.504, -995...      Kentucky   \n",
       "4      01  MULTIPOLYGON (((-9802056.754 3568885.376, -980...       Alabama   \n",
       "\n",
       "  BEA_REGION  \n",
       "0  Southwest  \n",
       "1     Plains  \n",
       "2   Far West  \n",
       "3  Southeast  \n",
       "4  Southeast  "
      ]
     },
     "execution_count": 13,
     "metadata": {},
     "output_type": "execute_result"
    }
   ],
   "source": [
    "# Now we want to add their BEA region\n",
    "# When using .apply() on an entire DF, need to state the axis of transformation (0 for rows, 1 for columns)\n",
    "gdf[\"BEA_REGION\"] = gdf.apply(lambda x: usa.filter_fips(x[\"STATEFP\"], to_return=\"object\")[\"bea\"], axis=1)\n",
    "gdf.head()"
   ]
  }
 ],
 "metadata": {
  "kernelspec": {
   "display_name": "personal",
   "language": "python",
   "name": "python3"
  },
  "language_info": {
   "codemirror_mode": {
    "name": "ipython",
    "version": 3
   },
   "file_extension": ".py",
   "mimetype": "text/x-python",
   "name": "python",
   "nbconvert_exporter": "python",
   "pygments_lexer": "ipython3",
   "version": "3.13.5"
  }
 },
 "nbformat": 4,
 "nbformat_minor": 2
}
